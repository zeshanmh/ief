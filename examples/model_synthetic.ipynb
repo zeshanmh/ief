{
 "cells": [
  {
   "cell_type": "code",
   "execution_count": 6,
   "id": "04021ece-588f-44b9-a63c-655f89e8f397",
   "metadata": {},
   "outputs": [
    {
     "name": "stdout",
     "output_type": "stream",
     "text": [
      "1.7.1\n"
     ]
    }
   ],
   "source": [
    "import torch\n",
    "import torch.nn as nn\n",
    "import numpy as np\n",
    "import pytorch_lightning as pl\n",
    "import sys \n",
    "import pandas as pd\n",
    "import os\n",
    "import optuna\n",
    "import matplotlib.pylab as plt\n",
    "%matplotlib inline\n",
    "from lifelines.utils import concordance_index\n",
    "from sklearn.metrics import r2_score\n",
    "from torch.utils.data import DataLoader, TensorDataset\n",
    "from torchcontrib.optim import SWA\n",
    "from pytorch_lightning import Trainer, seed_everything\n",
    "from argparse import ArgumentParser\n",
    "sys.path.append('../data/')\n",
    "sys.path.append('../data/synthetic')\n",
    "sys.path.append('../ief_core/')\n",
    "sys.path.append('../ief_core/models/')\n",
    "from synthetic_data import load_synthetic_data_trt, load_synthetic_data_noisy\n",
    "from models.ssm.ssm import SSM, SSMAtt\n",
    "from models.ssm.ssm_baseline import SSMBaseline\n",
    "from models.rnn import GRU\n",
    "from models.base import DataModule\n",
    "from models.utils import *\n",
    "print(torch.__version__)"
   ]
  },
  {
   "cell_type": "code",
   "execution_count": 2,
   "id": "1a141ce2-4902-4115-ba4e-45f0e41e33b0",
   "metadata": {},
   "outputs": [],
   "source": [
    "%matplotlib inline\n",
    "import matplotlib.pylab as plt\n",
    "import seaborn as sns\n",
    "\n",
    "## alternate font/graph format\n",
    "plt.rcParams['ps.useafm'] = True\n",
    "plt.rcParams['pdf.use14corefonts'] = True\n",
    "plt.rcParams['text.usetex'] = True\n",
    "plt.rc('font', weight='heavy')\n",
    "plt.rc('xtick', labelsize='x-large')\n",
    "plt.rc('ytick', labelsize='x-large')\n",
    "plt.rc('axes', labelsize='x-large')\n",
    "\n",
    "def get_scolor():\n",
    "    scolor = {}\n",
    "    scolor[0] = 'k'\n",
    "    scolor[1] = 'b'\n",
    "    scolor[2] = 'g'\n",
    "    scolor[3] = 'r'\n",
    "    return scolor"
   ]
  },
  {
   "cell_type": "markdown",
   "id": "f88b32cc-191c-4386-a61b-99ce7bfc6403",
   "metadata": {},
   "source": [
    "## Synthetic Data"
   ]
  },
  {
   "cell_type": "code",
   "execution_count": 3,
   "id": "94c14d25-e0d9-47a2-8af5-7c90da253114",
   "metadata": {},
   "outputs": [],
   "source": [
    "nsamples        = {'train':100, 'valid':1000, 'test':1000}\n",
    "folds           = [0,1,2,3,4]\n",
    "alpha_1_complex = False; per_missing = 0.; add_feat = 0; num_trt = 1\n",
    "ddata = load_synthetic_data_trt(fold_span = folds, \\\n",
    "                                nsamples = nsamples, \\\n",
    "                                distractor_dims_b=4, \\\n",
    "                                sigma_ys=0.7, \\\n",
    "                                include_line=True, \\\n",
    "                                alpha_1_complex=alpha_1_complex, \\\n",
    "                                per_missing=per_missing, \\\n",
    "                                add_feats=add_feat, \\\n",
    "                                num_trt=num_trt, \\\n",
    "                                sub=True)"
   ]
  },
  {
   "cell_type": "code",
   "execution_count": 4,
   "id": "7da7ae4d-98f0-41a8-883f-00a069089a9a",
   "metadata": {},
   "outputs": [],
   "source": [
    "def setup_torch_dataset(ddata, fold, tvt, device=None, oversample=True, att_mask=False, batch_size=600):\n",
    "    if device is not None: \n",
    "        B  = torch.from_numpy(ddata[fold][tvt]['b'].astype('float32')).to(device)\n",
    "        X  = torch.from_numpy(ddata[fold][tvt]['x'].astype('float32')).to(device)\n",
    "        A  = torch.from_numpy(ddata[fold][tvt]['a'].astype('float32')).to(device)\n",
    "        M  = torch.from_numpy(ddata[fold][tvt]['m'].astype('float32')).to(device)\n",
    "    else: \n",
    "        B  = torch.from_numpy(ddata[fold][tvt]['b'].astype('float32'))\n",
    "        X  = torch.from_numpy(ddata[fold][tvt]['x'].astype('float32'))\n",
    "        A  = torch.from_numpy(ddata[fold][tvt]['a'].astype('float32'))\n",
    "        M  = torch.from_numpy(ddata[fold][tvt]['m'].astype('float32'))\n",
    "\n",
    "    y_vals   = ddata[fold][tvt]['ys_seq'][:,0].astype('float32')\n",
    "    idx_sort = np.argsort(y_vals)\n",
    "\n",
    "    if 'digitized_y' in ddata[fold][tvt]:\n",
    "        print ('using digitized y')\n",
    "        Y  = torch.from_numpy(ddata[fold][tvt]['digitized_y'].astype('float32'))\n",
    "    else:\n",
    "        Y  = torch.from_numpy(ddata[fold][tvt]['ys_seq'][:,[0]]).squeeze()\n",
    "\n",
    "    if device is not None: \n",
    "        Y = Y.to(device)\n",
    "        CE = torch.from_numpy(ddata[fold][tvt]['ce'].astype('float32')).to(device)\n",
    "    else: \n",
    "        CE = torch.from_numpy(ddata[fold][tvt]['ce'].astype('float32'))\n",
    "\n",
    "    if att_mask: \n",
    "        attn_shape  = (A.shape[0],A.shape[1],A.shape[1])\n",
    "        Am   = get_attn_mask(attn_shape, ddata[fold][tvt]['a'].astype('float32'), device)\n",
    "        data = TensorDataset(B[idx_sort], X[idx_sort], A[idx_sort], M[idx_sort], Y[idx_sort], CE[idx_sort], Am[idx_sort])\n",
    "    else: \n",
    "        data = TensorDataset(B[idx_sort], X[idx_sort], A[idx_sort], M[idx_sort], Y[idx_sort], CE[idx_sort])\n",
    "    data_loader = DataLoader(data, batch_size=batch_size, shuffle=False)\n",
    "    return data, data_loader"
   ]
  },
  {
   "cell_type": "code",
   "execution_count": 11,
   "id": "47f69804-2685-4e06-af5c-fdc3f22b68ec",
   "metadata": {},
   "outputs": [
    {
     "name": "stdout",
     "output_type": "stream",
     "text": [
      "training on 1000 samples\n",
      "using relu in inf. network\n"
     ]
    }
   ],
   "source": [
    "sname = {}; models = {}\n",
    "# Example plots for one model; you should also train an SSM Linear and SSM PK-PD w/o local clock by setting clock_ablation to True in hyperparams\n",
    "sname['syn_ssm_att'] = '../ief_core/tests/checkpoints/ssm_syn_att1epoch=14958-val_loss=39.48.ckpt'\n",
    "if torch.cuda.is_available():\n",
    "    device = torch.device('cuda:2')\n",
    "else:\n",
    "    device  = torch.device('cpu')\n",
    "    \n",
    "for model_n in sname.keys(): \n",
    "    checkpoint = torch.load(sname[model_n], map_location=lambda storage, loc: storage)\n",
    "    hparams    = checkpoint['hyper_parameters']\n",
    "    hparams['inf_noise'] = 0.\n",
    "    hparams['zmatrix'] = 'identity'\n",
    "    hparams['clock_ablation'] = False\n",
    "    del hparams['trial']\n",
    "    trial = optuna.trial.FixedTrial({'bs': hparams.bs, 'lr': hparams.lr, 'C': hparams.C, 'reg_all': hparams.reg_all, 'reg_type': hparams.reg_type, 'dim_stochastic': hparams.dim_stochastic})\n",
    "    model = SSM(trial, **hparams)\n",
    "    dm = DataModule(hparams, model)\n",
    "    dm.setup(stage='fit')\n",
    "    model.load_state_dict(checkpoint['state_dict'])\n",
    "    models[model_n] = model\n",
    "    models[model_n].to(device)"
   ]
  },
  {
   "cell_type": "code",
   "execution_count": 12,
   "id": "c7e5c7ef-68c8-441d-94c2-f5e8b564bf1d",
   "metadata": {},
   "outputs": [
    {
     "name": "stdout",
     "output_type": "stream",
     "text": [
      "stats for syn_ssm_att\n",
      "mean NELBO: 39.84641380310059\n",
      "std NELBO: 0.11548260257008276\n"
     ]
    }
   ],
   "source": [
    "folds = [0,1,2,3,4]\n",
    "for model_ in models: \n",
    "    model = models[model_]\n",
    "    fold_nelbos = []\n",
    "    for fold in folds: \n",
    "        if 'alaa' in model_n:\n",
    "            data, data_loader = setup_torch_dataset(ddata, fold, 'test', device, att_mask=True)\n",
    "        else: \n",
    "            data, data_loader = setup_torch_dataset(ddata, fold, 'test', device, att_mask=False)\n",
    "\n",
    "        batch_nelbos = []\n",
    "        model.eval()\n",
    "        for i_batch, data_batch_loader in enumerate(data_loader):\n",
    "            (nelbo, nll, kl, _), _ = model.forward(*data_batch_loader, anneal = 1.)\n",
    "            nelbo, nll, kl         = nelbo.item(), nll.item(), kl.item()\n",
    "            batch_nelbos.append(nelbo)\n",
    "        fold_nelbos.append(np.mean(batch_nelbos))\n",
    "\n",
    "    print('stats for %s'%model_)\n",
    "    print('mean NELBO:', np.mean(fold_nelbos))\n",
    "    print('std NELBO:', np.std(fold_nelbos))"
   ]
  },
  {
   "cell_type": "markdown",
   "id": "395e0997-4794-4110-bb1c-89354bec4c1f",
   "metadata": {},
   "source": [
    "## Plotting Results"
   ]
  },
  {
   "cell_type": "code",
   "execution_count": 13,
   "id": "4d2e0c68-7e62-44bd-b366-e9527ef8e787",
   "metadata": {},
   "outputs": [],
   "source": [
    "fold = 1\n",
    "data, data_loader = setup_torch_dataset(ddata, fold, 'valid', device)\n",
    "subtype  = ddata[fold]['valid']['subtype']\n",
    "y_vals   = ddata[fold]['valid']['ys_seq'][:,0].astype('float32').ravel()\n",
    "idx_sort = np.argsort(y_vals)\n",
    "sorted_subtype = subtype[idx_sort]\n",
    "sorted_ys = y_vals[idx_sort]\n",
    "sorted_xs = ddata[fold]['valid']['x'][idx_sort]\n",
    "sorted_as = ddata[fold]['valid']['a'][idx_sort]"
   ]
  },
  {
   "cell_type": "code",
   "execution_count": 14,
   "id": "231b6564-316e-44f4-8121-8be66b60e55e",
   "metadata": {},
   "outputs": [
    {
     "name": "stdout",
     "output_type": "stream",
     "text": [
      "> \u001b[0;32m/afs/csail.mit.edu/u/z/zeshanmh/research/ief/ief_core/models/ssm/ssm.py\u001b[0m(291)\u001b[0;36minspect\u001b[0;34m()\u001b[0m\n",
      "\u001b[0;32m    289 \u001b[0;31m        \u001b[0mm_t\u001b[0m\u001b[0;34m,\u001b[0m \u001b[0m_\u001b[0m\u001b[0;34m,\u001b[0m \u001b[0mlens\u001b[0m           \u001b[0;34m=\u001b[0m \u001b[0mget_masks\u001b[0m\u001b[0;34m(\u001b[0m\u001b[0mM\u001b[0m\u001b[0;34m)\u001b[0m\u001b[0;34m\u001b[0m\u001b[0;34m\u001b[0m\u001b[0m\n",
      "\u001b[0m\u001b[0;32m    290 \u001b[0;31m        \u001b[0;32mimport\u001b[0m \u001b[0mpdb\u001b[0m\u001b[0;34m;\u001b[0m \u001b[0mpdb\u001b[0m\u001b[0;34m.\u001b[0m\u001b[0mset_trace\u001b[0m\u001b[0;34m(\u001b[0m\u001b[0;34m)\u001b[0m\u001b[0;34m\u001b[0m\u001b[0;34m\u001b[0m\u001b[0m\n",
      "\u001b[0m\u001b[0;32m--> 291 \u001b[0;31m        \u001b[0midx_select\u001b[0m \u001b[0;34m=\u001b[0m \u001b[0mlens\u001b[0m\u001b[0;34m>\u001b[0m\u001b[0;36m1\u001b[0m\u001b[0;34m\u001b[0m\u001b[0;34m\u001b[0m\u001b[0m\n",
      "\u001b[0m\u001b[0;32m    292 \u001b[0;31m        \u001b[0mB\u001b[0m\u001b[0;34m,\u001b[0m \u001b[0mX\u001b[0m\u001b[0;34m,\u001b[0m \u001b[0mA\u001b[0m\u001b[0;34m,\u001b[0m \u001b[0mM\u001b[0m\u001b[0;34m,\u001b[0m \u001b[0mY\u001b[0m\u001b[0;34m,\u001b[0m \u001b[0mCE\u001b[0m  \u001b[0;34m=\u001b[0m \u001b[0mB\u001b[0m\u001b[0;34m[\u001b[0m\u001b[0mlens\u001b[0m\u001b[0;34m>\u001b[0m\u001b[0;36m1\u001b[0m\u001b[0;34m]\u001b[0m\u001b[0;34m,\u001b[0m \u001b[0mX\u001b[0m\u001b[0;34m[\u001b[0m\u001b[0mlens\u001b[0m\u001b[0;34m>\u001b[0m\u001b[0;36m1\u001b[0m\u001b[0;34m]\u001b[0m\u001b[0;34m,\u001b[0m \u001b[0mA\u001b[0m\u001b[0;34m[\u001b[0m\u001b[0mlens\u001b[0m\u001b[0;34m>\u001b[0m\u001b[0;36m1\u001b[0m\u001b[0;34m]\u001b[0m\u001b[0;34m,\u001b[0m \u001b[0mM\u001b[0m\u001b[0;34m[\u001b[0m\u001b[0mlens\u001b[0m\u001b[0;34m>\u001b[0m\u001b[0;36m1\u001b[0m\u001b[0;34m]\u001b[0m\u001b[0;34m,\u001b[0m \u001b[0mY\u001b[0m\u001b[0;34m[\u001b[0m\u001b[0mlens\u001b[0m\u001b[0;34m>\u001b[0m\u001b[0;36m1\u001b[0m\u001b[0;34m]\u001b[0m\u001b[0;34m,\u001b[0m \u001b[0mCE\u001b[0m\u001b[0;34m[\u001b[0m\u001b[0mlens\u001b[0m\u001b[0;34m>\u001b[0m\u001b[0;36m1\u001b[0m\u001b[0;34m]\u001b[0m\u001b[0;34m\u001b[0m\u001b[0;34m\u001b[0m\u001b[0m\n",
      "\u001b[0m\u001b[0;32m    293 \u001b[0;31m        \u001b[0mm_t\u001b[0m\u001b[0;34m,\u001b[0m \u001b[0mm_g_t\u001b[0m\u001b[0;34m,\u001b[0m \u001b[0mlens\u001b[0m   \u001b[0;34m=\u001b[0m \u001b[0mget_masks\u001b[0m\u001b[0;34m(\u001b[0m\u001b[0mM\u001b[0m\u001b[0;34m[\u001b[0m\u001b[0;34m:\u001b[0m\u001b[0;34m,\u001b[0m\u001b[0;36m1\u001b[0m\u001b[0;34m:\u001b[0m\u001b[0;34m,\u001b[0m\u001b[0;34m:\u001b[0m\u001b[0;34m]\u001b[0m\u001b[0;34m)\u001b[0m\u001b[0;34m\u001b[0m\u001b[0;34m\u001b[0m\u001b[0m\n",
      "\u001b[0m\n"
     ]
    },
    {
     "name": "stdin",
     "output_type": "stream",
     "text": [
      "ipdb>  c\n"
     ]
    }
   ],
   "source": [
    "(B, X, A, M, Y, CE) = data_loader.dataset.tensors\n",
    "_, _, lens = get_masks(M)\n",
    "# T_forward  = 10; T_condition = 5\n",
    "T_forward = 17; T_condition = 2\n",
    "# B, X, A, M, Y, CE = B[lens>T_forward+T_condition], X[lens>T_forward+T_condition], A[lens>T_forward+T_condition], M[lens>T_forward+T_condition], Y[lens>T_forward+T_condition], CE[lens>T_forward+T_condition]\n",
    "\n",
    "samples = {}\n",
    "for name, model in models.items():\n",
    "    _, _, _, _, _, tforward, _, _ = model.inspect(T_forward, T_condition, B, X, A, M, Y, CE)\n",
    "    tforw_n = tforward.cpu().detach().numpy()\n",
    "    samples[name] = tforw_n"
   ]
  },
  {
   "cell_type": "code",
   "execution_count": 15,
   "id": "507df3a8-97ae-4931-a4a9-123032635ad0",
   "metadata": {},
   "outputs": [
    {
     "data": {
      "image/png": "[encoded data removed]",
      "text/plain": [
       "<Figure size 864x360 with 2 Axes>"
      ]
     },
     "metadata": {
      "needs_background": "light"
     },
     "output_type": "display_data"
    }
   ],
   "source": [
    "plt.rc('font', family='serif')\n",
    "fig, axlist = plt.subplots(1,2,figsize=(12,5))\n",
    "scolor=get_scolor()\n",
    "fig.subplots_adjust(hspace = 0.4)\n",
    "\n",
    "model_name  = 'PK-PD'\n",
    "model_name2  = 'Linear'\n",
    "model_name3  = 'PK-PD w/o lc'\n",
    "tvt = 'valid'\n",
    "pidx = 0\n",
    "k2alph = {}\n",
    "k2alph[0] = '(a)'\n",
    "k2alph[1] = '(b)'\n",
    "k2alph[2] = '(c)'\n",
    "k2alph[3] = '(d)'\n",
    "pt = 1\n",
    "ks = [1]\n",
    "axs = axlist.ravel()\n",
    "\n",
    "for k, ax in enumerate([axs[0]]):    \n",
    "    idx   = np.where(sorted_subtype==ks[k])[0]\n",
    "    pred  = samples['syn_ssm_att'][idx[pt]]\n",
    "    #### other models #####\n",
    "    \n",
    "#     pred  = samples['syn_ssm_att_notexp'][idx[pt]]\n",
    "#     pred2 = samples['syn_ssm_lin'][idx[pt]]\n",
    "#     pred3 = samples['syn_ssm_att_nolc'][idx[pt]]\n",
    "    \n",
    "    data   = sorted_xs[idx[pt],:,:]\n",
    "    trt_idx= np.where(sorted_as[idx[pt],:,1] == 1.)[0][0]\n",
    "    xvals  = np.arange(data.shape[0])\n",
    "    \n",
    "    tlist_x = []; tlist_y = []\n",
    "    treat_i = sorted_as[idx[pt],:,1]\n",
    "    ymax = ax.get_ylim()[1]+0.05\n",
    "    for t in range(treat_i.shape[0]):\n",
    "        if treat_i[t] == 1:\n",
    "            tlist_x.append(t)\n",
    "            tlist_y.append(15)\n",
    "    line1 = ax.scatter(tlist_x, tlist_y, marker='v', color='orange')\n",
    "    line2 = ax.fill_between(tlist_x, np.array(tlist_y)+4, np.array(tlist_y)+6, color='darkred', alpha=0.7)\n",
    "    \n",
    "    ax.annotate('Line', xy=(40, 247), xycoords='axes points',\n",
    "            size=20, bbox=dict(boxstyle='round', fc='w'))\n",
    "    ax.annotate('Trt', xy=(45, 217), xycoords='axes points',\n",
    "            size=20, bbox=dict(boxstyle='round', fc='w'))\n",
    "\n",
    "    ax.scatter(xvals, data[:,0], s = 64, label = 'Data')\n",
    "    ax.plot(xvals[1:18], pred[:,0],'o-', color='k', label = '%s'%(model_name), linewidth=3., alpha=0.5, markersize=8)\n",
    "    ### other models \n",
    "#     ax.plot(xvals[1:18], pred2[:,0],'x-', color='r', label = '%s'%(model_name2), linewidth=3., alpha=0.5, markersize=8)\n",
    "#     ax.plot(xvals[1:18], pred3[:,0],'^-', color='darkgrey', label = '%s'%(model_name3), linewidth=3., markersize=8)\n",
    "    tag = 'S[%d]'%(ks[k])\n",
    "    ax.set_title('Patient [%d] (Biomarker 1)'%(ks[k]), fontsize=25, pad=10)\n",
    "    ax.set_xlabel('Time', fontsize=25)\n",
    "    ax.tick_params(labelsize=20)\n",
    "    if k == 0: \n",
    "        ax.legend(fontsize=17, loc=3)\n",
    "\n",
    "for k, ax in enumerate([axs[1]]): \n",
    "    idx   = np.where(sorted_subtype==ks[k])[0]\n",
    "    pred  = samples['syn_ssm_att'][idx[pt]]\n",
    "    ### other models \n",
    "#     pred  = samples['syn_ssm_att_notexp'][idx[pt]]\n",
    "#     pred2 = samples['syn_ssm_lin'][idx[pt]]\n",
    "#     pred3 = samples['syn_ssm_att_nolc'][idx[pt]]\n",
    "\n",
    "    data  = sorted_xs[idx[pt],:,:]\n",
    "    xvals = np.arange(data.shape[0])\n",
    "    trt_idx= np.where(sorted_as[idx[pt],:,1] == 1.)[0][0]\n",
    "    \n",
    "    tlist_x = []; tlist_y = []\n",
    "    treat_i = sorted_as[idx[pt],:,1]\n",
    "    for t in range(treat_i.shape[0]):\n",
    "        if treat_i[t] == 1:\n",
    "            tlist_x.append(t)\n",
    "            tlist_y.append(32)\n",
    "    ax.scatter(tlist_x, tlist_y, marker='v', color='orange')\n",
    "    ax.fill_between(tlist_x, np.array(tlist_y)+4, np.array(tlist_y)+6, color='darkred', alpha=0.7)\n",
    "    \n",
    "    bidx = 2\n",
    "    ax.scatter(xvals, data[:,1], label = 'Data', s=64)\n",
    "    ax.plot(xvals[1:18], pred[:,1],'o-', color='k', label = '%s'%(model_name), linewidth=3., alpha=0.5, markersize=8)\n",
    "#     ax.plot(xvals[1:18], pred2[:,1],'x-', color='r', label = '%s'%(model_name2), linewidth=3., alpha=0.5, markersize=8)\n",
    "#     ax.plot(xvals[1:18], pred3[:,1],'^-', color='darkgrey', label = '%s'%(model_name3), linewidth=3., markersize=8)\n",
    "    tag = 'S[%d]'%(ks[k])\n",
    "    ax.set_title('Patient [%d] (Biomarker %d)'%(ks[k],bidx), fontsize=25, pad=10)\n",
    "    ax.set_xlabel('Time', fontsize=25)\n",
    "    ax.tick_params(labelsize=20)\n",
    "    \n",
    "plt.savefig('./plots/ssm_syn_joint24_bigfonts_nolc_linetrt.pdf', bbox_inches='tight')"
   ]
  },
  {
   "cell_type": "code",
   "execution_count": null,
   "id": "9133ac6d-7b58-4bc1-b783-5fdea394548c",
   "metadata": {},
   "outputs": [],
   "source": []
  }
 ],
 "metadata": {
  "kernelspec": {
   "display_name": "Environment (conda_cancer_prog)",
   "language": "python",
   "name": "conda_cancer_prog"
  },
  "language_info": {
   "codemirror_mode": {
    "name": "ipython",
    "version": 3
   },
   "file_extension": ".py",
   "mimetype": "text/x-python",
   "name": "python",
   "nbconvert_exporter": "python",
   "pygments_lexer": "ipython3",
   "version": "3.8.5"
  }
 },
 "nbformat": 4,
 "nbformat_minor": 5
}
